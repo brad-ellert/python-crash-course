{
  "cells": [
    {
      "attachments": {},
      "cell_type": "markdown",
      "metadata": {},
      "source": [
        "# Python Crash Course (cont'd)\n",
        "\n",
        "Continuing from the foundations built in the first part of this course, we will introduce the aforementioned libraries for data analysis and visualization:\n",
        "\n",
        "* NumPy\n",
        "* Pandas\n",
        "* Matplotlib\n",
        "\n",
        "Before this, we will introduce one more fundamental concept."
      ]
    },
    {
      "attachments": {},
      "cell_type": "markdown",
      "id": "98efe442",
      "metadata": {},
      "source": [
        "## Classes and Objects\n",
        "\n",
        "In Python, everything is an object. An object is an instance of a class, which is a blueprint or template for creating objects. Classes define the properties (attributes) and behaviors (methods) of an object. A method is a function defined in a class.\n",
        "\n",
        "For example, a string is an object in Python. It has its own set of attributes and methods that can be accessed using the dot operator (`.`). This allows us to manipulate strings in various ways using the methods that are available to them.\n",
        "\n",
        "Here's an example:"
      ]
    },
    {
      "cell_type": "code",
      "execution_count": null,
      "id": "25b00d55",
      "metadata": {},
      "outputs": [],
      "source": [
        "c = 'apple'\n",
        "\n",
        "# Input: 'apple'\n",
        "print(c.upper())                                   # Output: APPLE\n",
        "print(c.replace('p', 'l').replace('le', 'ergen'))  # Output: allergen\n",
        "print(c)                                           # Output: apple"
      ]
    },
    {
      "attachments": {},
      "cell_type": "markdown",
      "id": "27c6fbd5",
      "metadata": {},
      "source": [
        "The first function takes no parameters, but still requires the `()` in Python. These methods do not modify the strings, but rather return a new string with the modifications applied. (This is not the case for all methods and functions.) We can see that the second function is acting on the original lowercase string. Since we are not storing the result and rather printing it directly, we can chain the method calls. After replacing all occurences of 'p' in 'apple' with 'l' we replace all occurences of 'le' in the intermediate 'allle' with 'ergen'. Try using variables to save the values along the way and inspect them.\n",
        "\n",
        "A list is also an object. One very useful method on lists is `append`. This allows us to add an element to the end of a list, which is one of a list's main applications (as it is mutable unlike a tuple). Here is an example of a method that does modify the object."
      ]
    },
    {
      "cell_type": "code",
      "execution_count": null,
      "id": "de283e0c",
      "metadata": {},
      "outputs": [],
      "source": [
        "e = [1, 2, 3, 4, 5]\n",
        "\n",
        "e.append(6)  # Input: [1, 2, 3, 4, 5]\n",
        "print(e)     # Output: [1, 2, 3, 4, 5, 6]"
      ]
    },
    {
      "attachments": {},
      "cell_type": "markdown",
      "metadata": {},
      "source": [
        " Using this is a little more natural than constructing a list of one element to add to another list, as we did in our final exercise in the first part of the course. Below is a revised version of that function."
      ]
    },
    {
      "cell_type": "code",
      "execution_count": null,
      "metadata": {},
      "outputs": [],
      "source": [
        "def convert_minutes(minutes_list):\n",
        "  result = []\n",
        "  for minutes in minutes_list:\n",
        "    hours = minutes // 60\n",
        "    remaining_minutes = minutes % 60\n",
        "    hours_and_minutes = (hours, remaining_minutes)\n",
        "    result.append(hours_and_minutes)\n",
        "  return result"
      ]
    },
    {
      "attachments": {},
      "cell_type": "markdown",
      "metadata": {},
      "source": [
        "## Working with Libraries in Python\n",
        "\n",
        "Libraries are pre-written code modules that contain functions, classes, and other resources to perform specific tasks. Python has a rich ecosystem of libraries that extend its capabilities for various purposes, such as data analysis, machine learning, web development, and more. In this section, we'll learn how to work with libraries in Python.\n",
        "\n",
        "### Importing Libraries\n",
        "\n",
        "To use a library in Python, you need to import it into your script or notebook. The `import` statement is used for this purpose. Here's an example:"
      ]
    },
    {
      "cell_type": "code",
      "execution_count": null,
      "metadata": {},
      "outputs": [],
      "source": [
        "# Import the 'math' library\n",
        "import math\n",
        "\n",
        "# Now you can use functions from the 'math' library\n",
        "print(math.sqrt(25))  # Output: 5.0"
      ]
    },
    {
      "attachments": {},
      "cell_type": "markdown",
      "metadata": {},
      "source": [
        "### Importing Specific Functions\n",
        "\n",
        "Sometimes, you may only need to use specific functions from a library instead of importing the whole library. You can do this using the `from` keyword. Be careful doing this because you can overwrite previously defined functions and variables. Here's an example:"
      ]
    },
    {
      "cell_type": "code",
      "execution_count": null,
      "metadata": {},
      "outputs": [],
      "source": [
        "# Import only the 'sqrt' function from the 'math' library\n",
        "from math import sqrt\n",
        "\n",
        "# Now you can directly use the 'sqrt' function\n",
        "print(sqrt(25))  # Output: 5.0"
      ]
    },
    {
      "attachments": {},
      "cell_type": "markdown",
      "metadata": {},
      "source": [
        "### Aliasing Libraries\n",
        "\n",
        "You can also provide an alias to a library when importing it. This is useful when you want to use a shorter or more convenient name for the library. Here's an example:"
      ]
    },
    {
      "cell_type": "code",
      "execution_count": null,
      "metadata": {},
      "outputs": [],
      "source": [
        "# Import the 'math' library\n",
        "import math as m\n",
        "\n",
        "# Now you can use functions from the 'math' library\n",
        "print(m.sqrt(25))  # Output: 5.0"
      ]
    },
    {
      "attachments": {},
      "cell_type": "markdown",
      "metadata": {},
      "source": [
        "### Exploring Library Functions\n",
        "\n",
        "Once you import a library, you can explore its available functions and attributes using the built-in `help()` function. Here's an example:"
      ]
    },
    {
      "cell_type": "code",
      "execution_count": null,
      "metadata": {},
      "outputs": [],
      "source": [
        "# Explore the functions in the 'math' library\n",
        "help(math)"
      ]
    },
    {
      "attachments": {},
      "cell_type": "markdown",
      "metadata": {},
      "source": [
        "## NumPy: Numerical Computing in Python\n",
        "\n",
        "NumPy is a fundamental package for scientific computing in Python. It provides support for large, multi-dimensional arrays and matrices, along with a wide range of mathematical functions to operate on these arrays. NumPy is widely used in fields such as data analysis, machine learning, and scientific research.\n",
        "\n",
        "### Importing NumPy\n",
        "\n",
        "Since were using Google Colab, NumPy is already pre-installed, so you can skip the installation step. To use NumPy, you need to import the module into your Python script or notebook. Conventionally, NumPy is imported with the alias `np`:\n",
        "\n",
        "```python\n",
        "import numpy as np\n",
        "```\n",
        "\n",
        "### Creating NumPy Arrays\n",
        "\n",
        "A NumPy array is a grid of values, all of the same type, and is indexed by a tuple of nonnegative integers. There are several ways to create NumPy arrays:\n",
        "\n",
        "- **`np.array()`**: Create an array from a list or tuple\n",
        "- **`np.zeros()`**: Create an array filled with zeros\n",
        "- **`np.ones()`**: Create an array filled with ones\n",
        "- **`np.arange()`**: Create an array with regularly spaced values\n",
        "- **`np.random`**: Generate random numbers (using various subfunctions)\n"
      ]
    },
    {
      "cell_type": "code",
      "execution_count": null,
      "metadata": {},
      "outputs": [],
      "source": [
        "import numpy as np\n",
        "\n",
        "# Creating a NumPy array from a list\n",
        "my_list = [1, 2, 3, 4, 5]\n",
        "my_array = np.array(my_list)\n",
        "print(my_array)\n",
        "\n",
        "# Creating a NumPy array filled with zeros\n",
        "zeros_array = np.zeros((3, 3))\n",
        "print(zeros_array)\n",
        "\n",
        "# Creating a NumPy array filled with ones\n",
        "ones_array = np.ones((2, 4))\n",
        "print(ones_array)\n",
        "\n",
        "# Creating a NumPy array with regularly spaced values\n",
        "range_array = np.arange(1, 10, 2)\n",
        "print(range_array)\n",
        "\n",
        "# Generating random numbers\n",
        "random_array = np.random.rand(3, 3)\n",
        "print(random_array)"
      ]
    },
    {
      "attachments": {},
      "cell_type": "markdown",
      "metadata": {},
      "source": [
        "## Pandas: Data Analysis with Python\n",
        "\n",
        "Pandas is a powerful library for data manipulation and analysis in Python. It provides data structures and functions to efficiently work with structured data, such as tabular data (e.g., CSV files) and time series data. Pandas is widely used in data science, finance, and other domains that involve data analysis.\n",
        "\n",
        "### Importing Pandas\n",
        "\n",
        "Since we're using Google Colab, Pandas is already pre-installed, so you can skip the installation step. To use Pandas, you need to import the module into your Python script or notebook. Conventionally, Pandas is imported with the alias `pd`:\n",
        "\n",
        "```python\n",
        "import pandas as pd\n",
        "```\n",
        "\n",
        "### Pandas Data Structures\n",
        "\n",
        "Pandas provides two primary data structures: Series and DataFrame.\n",
        "\n",
        "- **Series**: A one-dimensional labeled array that can hold any data type. It is similar to a column in a spreadsheet or a single column in a database table.\n",
        "- **DataFrame**: A two-dimensional labeled data structure with columns of potentially different data types. It is similar to a spreadsheet or a SQL table.\n",
        "\n",
        "These data structures offer powerful functionality for data manipulation, exploration, and analysis.\n",
        "\n",
        "### Reading and Writing Data\n",
        "\n",
        "Pandas provides functions to read data from various file formats, such as CSV, Excel, SQL databases, and more. It also allows you to write data to these formats. Some of the commonly used functions include:\n",
        "\n",
        "- **`pd.read_csv()`**: Read data from a CSV file\n",
        "- **`pd.read_excel()`**: Read data from an Excel file\n",
        "- **`pd.read_sql()`**: Read data from a SQL database\n",
        "- **`pd.to_csv()`**: Write data to a CSV file\n",
        "- **`pd.to_excel()`**: Write data to an Excel file\n",
        "\n",
        "### Exploring Data\n",
        "\n",
        "Once data is loaded into a Pandas DataFrame, you can perform various operations to explore and analyze the data. Some commonly used operations include:\n",
        "\n",
        "- **`head()`**: View the first few rows of the DataFrame\n",
        "- **`info()`**: Get information about the DataFrame, such as column names, data types, and memory usage\n",
        "- **`describe()`**: Generate descriptive statistics of the DataFrame, such as count, mean, and standard deviation\n",
        "- **`shape`**: Get the dimensions (number of rows and columns) of the DataFrame (note that this is not a function; no `()`)\n",
        "- **`columns`**: Get the column names of the DataFrame (note that this is not a function; no `()`)\n",
        "- **`unique()`**: Get unique values in a column\n"
      ]
    },
    {
      "cell_type": "code",
      "execution_count": null,
      "metadata": {},
      "outputs": [],
      "source": [
        "import pandas as pd\n",
        "\n",
        "# Create a Pandas Series\n",
        "my_series = pd.Series(['John', 'Alice', 'Bob'])\n",
        "print(my_series)\n",
        "\n",
        "# Create a Pandas DataFrame\n",
        "data = {\n",
        "    'Name': my_series,\n",
        "    'Age': [25, 30, 35],\n",
        "    'City': ['Winnipeg', 'Lethbridge', 'Winnipeg']\n",
        "}\n",
        "my_dataframe = pd.DataFrame(data)\n",
        "print(\"\\nDataFrame:\")\n",
        "print(my_dataframe)\n",
        "\n",
        "# Get information about the DataFrame\n",
        "print(\"\\nDataFrame information:\")\n",
        "print(my_dataframe.info())\n",
        "\n",
        "# Generate descriptive statistics\n",
        "print(\"\\nDataFrame statistics:\")\n",
        "print(my_dataframe.describe())\n",
        "\n",
        "# Get the dimensions of the DataFrame\n",
        "print(\"\\nDataFrame dimensions:\")\n",
        "print(my_dataframe.shape)\n",
        "\n",
        "# Get the column names\n",
        "print(\"\\nDataFrame columns:\")\n",
        "print(my_dataframe.columns)\n",
        "\n",
        "# Get unique values in a column\n",
        "print(\"\\nUnique cities:\")\n",
        "unique_cities = my_dataframe['City'].unique()\n",
        "print(unique_cities)"
      ]
    },
    {
      "attachments": {},
      "cell_type": "markdown",
      "metadata": {},
      "source": [
        "## Matplotlib: Data Visualization in Python\n",
        "\n",
        "Matplotlib is a powerful library for creating static, animated, and interactive visualizations in Python. It provides a wide range of plotting capabilities, allowing you to create line plots, scatter plots, bar plots, histograms, and more. Matplotlib is widely used in data exploration, data analysis, and scientific research.\n",
        "\n",
        "### Importing Matplotlib\n",
        "\n",
        "Since we're using Google Colab, Matplotlib is already pre-installed, so you can skip the installation step. To use Matplotlib, you need to import the module into your Python script or notebook. Conventionally, Matplotlib is imported with the alias `plt`:\n",
        "\n",
        "```python\n",
        "import matplotlib.pyplot as plt\n",
        "```\n",
        "\n",
        "### Basic Plotting\n",
        "\n",
        "Matplotlib provides a MATLAB-like interface for creating plots. The most commonly used function is `plt.plot()`, which can be used to create line plots, scatter plots, and more. Here's a simple example:"
      ]
    },
    {
      "cell_type": "code",
      "execution_count": null,
      "metadata": {},
      "outputs": [],
      "source": [
        "import numpy as np\n",
        "import matplotlib.pyplot as plt\n",
        "\n",
        "# Generate data\n",
        "x = np.linspace(0, 2 * np.pi, 100)\n",
        "y = np.sin(x)\n",
        "\n",
        "# Create a line plot\n",
        "plt.plot(x, y, color='blue', linestyle='--', linewidth=2, marker='o', markersize=4, label='Sine Curve')\n",
        "plt.xlabel('x')\n",
        "plt.ylabel('y')\n",
        "plt.title('Sine Function')\n",
        "plt.legend()\n",
        "plt.grid(True)\n",
        "plt.show()"
      ]
    },
    {
      "attachments": {},
      "cell_type": "markdown",
      "metadata": {},
      "source": [
        "### Other Types of Plots\n",
        "\n",
        "Matplotlib provides a wide range of plot types, including scatter plots, bar plots, histograms, pie charts, and more. You can explore these plot types in the [Matplotlib gallery](https://matplotlib.org/stable/gallery/index.html) and find the appropriate function and parameters for each type.\n",
        "\n",
        "### Customizing Plots\n",
        "\n",
        "Matplotlib allows you to customize various aspects of your plots, such as colors, line styles, markers, annotations, legends, and more. You can refer to the [Matplotlib documentation](https://matplotlib.org/stable/contents.html) for detailed information on customization options."
      ]
    }
  ],
  "metadata": {
    "kernelspec": {
      "display_name": "Python 3",
      "language": "python",
      "name": "python3"
    },
    "language_info": {
      "codemirror_mode": {
        "name": "ipython",
        "version": 3
      },
      "file_extension": ".py",
      "mimetype": "text/x-python",
      "name": "python",
      "nbconvert_exporter": "python",
      "pygments_lexer": "ipython3",
      "version": "3.8.10"
    },
    "orig_nbformat": 4
  },
  "nbformat": 4,
  "nbformat_minor": 2
}
