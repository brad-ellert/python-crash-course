{
  "cells": [
    {
      "attachments": {},
      "cell_type": "markdown",
      "metadata": {},
      "source": [
        "# Python Crash Course 2\n",
        "\n",
        "Continuing from the foundations built in the first part of this course, we will introduce the aforementioned libraries for data analysis and visualization:\n",
        "\n",
        "* NumPy\n",
        "* Pandas\n",
        "* Matplotlib\n",
        "\n",
        "Before this, we will introduce one more fundamental concept."
      ]
    },
    {
      "attachments": {},
      "cell_type": "markdown",
      "id": "98efe442",
      "metadata": {},
      "source": [
        "## Classes and Objects\n",
        "\n",
        "In Python, everything is an object. An object is an instance of a class, which is a blueprint or template for creating objects. Classes define the properties (attributes) and behaviors (methods) of an object. A method is a function defined in a class.\n",
        "\n",
        "For example, a string is an object in Python. It has its own set of attributes and methods that can be accessed using the dot operator (`.`). This allows us to manipulate strings in various ways using the methods that are available to them.\n",
        "\n",
        "Here's an example:"
      ]
    },
    {
      "cell_type": "code",
      "execution_count": null,
      "id": "25b00d55",
      "metadata": {},
      "outputs": [],
      "source": [
        "c = 'apple'\n",
        "\n",
        "# Input: 'apple'\n",
        "print(c.upper())                                   # Output: APPLE\n",
        "print(c.replace('p', 'l').replace('le', 'ergen'))  # Output: allergen\n",
        "print(c)                                           # Output: apple"
      ]
    },
    {
      "attachments": {},
      "cell_type": "markdown",
      "id": "27c6fbd5",
      "metadata": {},
      "source": [
        "The first function takes no parameters, but still requires the `()` in Python. These methods do not modify the strings, but rather return a new string with the modifications applied. This is not the case for all methods and functions. We can see that the second function is acting on the original lowercase string. Since we are not storing the result and rather printing it directly, we can chain the method calls. After replacing all occurences of 'p' in 'apple' with 'l' we replace all occurences of 'le' in the intermediate 'allle' with 'ergen'. Try using variables to save the values along the way and inspect them.\n",
        "\n",
        "A list is also an object. One very useful method on lists is `append`. This allows us to add an element to the end of a list, which is one of a list's main applications (as it is mutable unlike a tuple). Here is an example of a method that does modify the object."
      ]
    },
    {
      "cell_type": "code",
      "execution_count": null,
      "id": "de283e0c",
      "metadata": {},
      "outputs": [],
      "source": [
        "e = [1, 2, 3, 4, 5]\n",
        "\n",
        "e.append(6)  # Input: [1, 2, 3, 4, 5]\n",
        "print(e)     # Output: [1, 2, 3, 4, 5, 6]"
      ]
    },
    {
      "attachments": {},
      "cell_type": "markdown",
      "metadata": {},
      "source": [
        " Using this is a little more natural than constructing a list of one element to add to another list, as we did in our final exercise in the first part of the course. Below is a revised version of that function."
      ]
    },
    {
      "cell_type": "code",
      "execution_count": null,
      "metadata": {},
      "outputs": [],
      "source": [
        "def convert_minutes(minutes_list):\n",
        "  result = []\n",
        "  for minutes in minutes_list:\n",
        "    hours = minutes // 60\n",
        "    remaining_minutes = minutes % 60\n",
        "    hours_and_minutes = (hours, remaining_minutes)\n",
        "    result.append(hours_and_minutes)\n",
        "  return result"
      ]
    }
  ],
  "metadata": {
    "kernelspec": {
      "display_name": "Python 3",
      "language": "python",
      "name": "python3"
    },
    "language_info": {
      "codemirror_mode": {
        "name": "ipython",
        "version": 3
      },
      "file_extension": ".py",
      "mimetype": "text/x-python",
      "name": "python",
      "nbconvert_exporter": "python",
      "pygments_lexer": "ipython3",
      "version": "3.8.10"
    },
    "orig_nbformat": 4
  },
  "nbformat": 4,
  "nbformat_minor": 2
}
